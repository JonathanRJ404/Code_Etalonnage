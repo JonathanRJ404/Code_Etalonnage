{
 "cells": [
  {
   "cell_type": "code",
   "execution_count": 1,
   "id": "a632c9d9",
   "metadata": {},
   "outputs": [],
   "source": [
    "from lib import datafile as dtf\n",
    "from lib.bsrn_filter import bsrn_filter\n",
    "from lib.data_selection import data_selection\n",
    "from lib.difference_tot_diff import difference_tot_diff\n",
    "from lib.linear_regression import linear_regression\n",
    "from lib.overcast_conditions import overcast_conditions\n",
    "from lib.calibration_validation import calibration_validation\n",
    "from lib.plot import plot_irradiance, plot_calibration_global, plot_validation_global, plot_calibration_diffus, \\\n",
    "    plot_calibration_corr, plot_solpos, plot_irradiance_corr, plot_diff, dni_plot\n",
    "from lib.sky_classification import sky_classification\n",
    "from bokeh.plotting import output_file, show, gridplot\n",
    "from lib.csvtoinflux import csvtoinflux\n",
    "from lib.python_pdf import certificate\n",
    "from lib.launch import launch\n",
    "import json\n",
    "from datetime import date\n"
   ]
  },
  {
   "cell_type": "code",
   "execution_count": 3,
   "id": "40ad432f",
   "metadata": {
    "scrolled": true
   },
   "outputs": [
    {
     "name": "stdout",
     "output_type": "stream",
     "text": [
      "lastname:\n",
      "firstname:\n",
      "organisation:\n",
      "latitude (default: -20.9): \n",
      "longitude (default: 55.48): \n",
      "TimeZone (default: 4): \n",
      "model:\n",
      "serial_num:\n",
      "sensi_ghi_old (default: 1):\n",
      "sensi_dhi_old (default: 1):\n",
      "mode:\n",
      "reference:\n",
      "Influxdb link: \n",
      "bucket: \n",
      "org: \n",
      "token: \n"
     ]
    },
    {
     "name": "stderr",
     "output_type": "stream",
     "text": [
      "C:\\Users\\Jonathan\\Desktop\\spn1_calibration-main_LWIDJY\\lib\\data_selection.py:26: SettingWithCopyWarning: \n",
      "A value is trying to be set on a copy of a slice from a DataFrame\n",
      "\n",
      "See the caveats in the documentation: https://pandas.pydata.org/pandas-docs/stable/user_guide/indexing.html#returning-a-view-versus-a-copy\n",
      "  pos['azimuth'].loc[pos['azimuth'] > 180] = pos['azimuth'].loc[pos['azimuth'] > 180]-360  # Normalize -180/180\n"
     ]
    },
    {
     "name": "stdout",
     "output_type": "stream",
     "text": [
      "194 valeurs abérrantes ont été supprimés\n"
     ]
    },
    {
     "name": "stderr",
     "output_type": "stream",
     "text": [
      "C:\\Users\\Jonathan\\anaconda3\\lib\\site-packages\\scipy\\stats\\morestats.py:1760: UserWarning: p-value may not be accurate for N > 5000.\n",
      "  warnings.warn(\"p-value may not be accurate for N > 5000.\")\n"
     ]
    },
    {
     "ename": "FileNotFoundError",
     "evalue": "[Errno 2] No such file or directory: './output/plot_2023418__.html'",
     "output_type": "error",
     "traceback": [
      "\u001b[1;31m---------------------------------------------------------------------------\u001b[0m",
      "\u001b[1;31mFileNotFoundError\u001b[0m                         Traceback (most recent call last)",
      "Input \u001b[1;32mIn [3]\u001b[0m, in \u001b[0;36m<cell line: 71>\u001b[1;34m()\u001b[0m\n\u001b[0;32m     66\u001b[0m p19, p20 \u001b[38;5;241m=\u001b[39m dni_plot(tab_calib, \u001b[38;5;124m'\u001b[39m\u001b[38;5;124mafter calibration\u001b[39m\u001b[38;5;124m'\u001b[39m)\n\u001b[0;32m     68\u001b[0m p \u001b[38;5;241m=\u001b[39m gridplot([[p1, p4], [p2, p3], [p5, \u001b[38;5;28;01mNone\u001b[39;00m], [p6, p7], [p8, p9], [p10, p11], [p12, p13], [p14, p15], \\\n\u001b[0;32m     69\u001b[0m     [p16, \u001b[38;5;28;01mNone\u001b[39;00m],[p17,p18],[p19,p20]],sizing_mode\u001b[38;5;241m=\u001b[39m\u001b[38;5;124m'\u001b[39m\u001b[38;5;124mscale_both\u001b[39m\u001b[38;5;124m'\u001b[39m)\n\u001b[1;32m---> 71\u001b[0m \u001b[43mshow\u001b[49m\u001b[43m(\u001b[49m\u001b[43mp\u001b[49m\u001b[43m)\u001b[49m\n\u001b[0;32m     73\u001b[0m sensi_ghi_new \u001b[38;5;241m=\u001b[39m \u001b[38;5;28mround\u001b[39m(sensi_ghi_old\u001b[38;5;241m/\u001b[39ma_g, \u001b[38;5;241m2\u001b[39m)\n\u001b[0;32m     74\u001b[0m sensi_dhi_new \u001b[38;5;241m=\u001b[39m \u001b[38;5;28mround\u001b[39m(sensi_dhi_old\u001b[38;5;241m/\u001b[39ma_d, \u001b[38;5;241m2\u001b[39m)\n",
      "File \u001b[1;32m~\\anaconda3\\lib\\site-packages\\bokeh\\io\\showing.py:144\u001b[0m, in \u001b[0;36mshow\u001b[1;34m(obj, browser, new, notebook_handle, notebook_url, **kwargs)\u001b[0m\n\u001b[0;32m    141\u001b[0m state \u001b[38;5;241m=\u001b[39m curstate()\n\u001b[0;32m    143\u001b[0m \u001b[38;5;28;01mif\u001b[39;00m \u001b[38;5;28misinstance\u001b[39m(obj, LayoutDOM):\n\u001b[1;32m--> 144\u001b[0m     \u001b[38;5;28;01mreturn\u001b[39;00m \u001b[43m_show_with_state\u001b[49m\u001b[43m(\u001b[49m\u001b[43mobj\u001b[49m\u001b[43m,\u001b[49m\u001b[43m \u001b[49m\u001b[43mstate\u001b[49m\u001b[43m,\u001b[49m\u001b[43m \u001b[49m\u001b[43mbrowser\u001b[49m\u001b[43m,\u001b[49m\u001b[43m \u001b[49m\u001b[43mnew\u001b[49m\u001b[43m,\u001b[49m\u001b[43m \u001b[49m\u001b[43mnotebook_handle\u001b[49m\u001b[38;5;241;43m=\u001b[39;49m\u001b[43mnotebook_handle\u001b[49m\u001b[43m)\u001b[49m\n\u001b[0;32m    146\u001b[0m \u001b[38;5;28;01mdef\u001b[39;00m \u001b[38;5;21mis_application\u001b[39m(obj: Any) \u001b[38;5;241m-\u001b[39m\u001b[38;5;241m>\u001b[39m TypeGuard[Application]:\n\u001b[0;32m    147\u001b[0m     \u001b[38;5;28;01mreturn\u001b[39;00m \u001b[38;5;28mgetattr\u001b[39m(obj, \u001b[38;5;124m'\u001b[39m\u001b[38;5;124m_is_a_bokeh_application_class\u001b[39m\u001b[38;5;124m'\u001b[39m, \u001b[38;5;28;01mFalse\u001b[39;00m)\n",
      "File \u001b[1;32m~\\anaconda3\\lib\\site-packages\\bokeh\\io\\showing.py:195\u001b[0m, in \u001b[0;36m_show_with_state\u001b[1;34m(obj, state, browser, new, notebook_handle)\u001b[0m\n\u001b[0;32m    192\u001b[0m     shown \u001b[38;5;241m=\u001b[39m \u001b[38;5;28;01mTrue\u001b[39;00m\n\u001b[0;32m    194\u001b[0m \u001b[38;5;28;01mif\u001b[39;00m state\u001b[38;5;241m.\u001b[39mfile \u001b[38;5;129;01mor\u001b[39;00m \u001b[38;5;129;01mnot\u001b[39;00m shown:\n\u001b[1;32m--> 195\u001b[0m     \u001b[43m_show_file_with_state\u001b[49m\u001b[43m(\u001b[49m\u001b[43mobj\u001b[49m\u001b[43m,\u001b[49m\u001b[43m \u001b[49m\u001b[43mstate\u001b[49m\u001b[43m,\u001b[49m\u001b[43m \u001b[49m\u001b[43mnew\u001b[49m\u001b[43m,\u001b[49m\u001b[43m \u001b[49m\u001b[43mcontroller\u001b[49m\u001b[43m)\u001b[49m\n\u001b[0;32m    197\u001b[0m \u001b[38;5;28;01mreturn\u001b[39;00m comms_handle\n",
      "File \u001b[1;32m~\\anaconda3\\lib\\site-packages\\bokeh\\io\\showing.py:176\u001b[0m, in \u001b[0;36m_show_file_with_state\u001b[1;34m(obj, state, new, controller)\u001b[0m\n\u001b[0;32m    172\u001b[0m \u001b[38;5;28;01mdef\u001b[39;00m \u001b[38;5;21m_show_file_with_state\u001b[39m(obj: LayoutDOM, state: State, new: BrowserTarget, controller: BrowserLike) \u001b[38;5;241m-\u001b[39m\u001b[38;5;241m>\u001b[39m \u001b[38;5;28;01mNone\u001b[39;00m:\n\u001b[0;32m    173\u001b[0m     \u001b[38;5;124;03m'''\u001b[39;00m\n\u001b[0;32m    174\u001b[0m \n\u001b[0;32m    175\u001b[0m \u001b[38;5;124;03m    '''\u001b[39;00m\n\u001b[1;32m--> 176\u001b[0m     filename \u001b[38;5;241m=\u001b[39m \u001b[43msave\u001b[49m\u001b[43m(\u001b[49m\u001b[43mobj\u001b[49m\u001b[43m,\u001b[49m\u001b[43m \u001b[49m\u001b[43mstate\u001b[49m\u001b[38;5;241;43m=\u001b[39;49m\u001b[43mstate\u001b[49m\u001b[43m)\u001b[49m\n\u001b[0;32m    177\u001b[0m     controller\u001b[38;5;241m.\u001b[39mopen(\u001b[38;5;124m\"\u001b[39m\u001b[38;5;124mfile://\u001b[39m\u001b[38;5;124m\"\u001b[39m \u001b[38;5;241m+\u001b[39m filename, new\u001b[38;5;241m=\u001b[39mNEW_PARAM[new])\n",
      "File \u001b[1;32m~\\anaconda3\\lib\\site-packages\\bokeh\\io\\saving.py:98\u001b[0m, in \u001b[0;36msave\u001b[1;34m(obj, filename, resources, title, template, state)\u001b[0m\n\u001b[0;32m     95\u001b[0m theme \u001b[38;5;241m=\u001b[39m state\u001b[38;5;241m.\u001b[39mdocument\u001b[38;5;241m.\u001b[39mtheme\n\u001b[0;32m     97\u001b[0m filename, resources, title \u001b[38;5;241m=\u001b[39m _get_save_args(state, filename, resources, title)\n\u001b[1;32m---> 98\u001b[0m \u001b[43m_save_helper\u001b[49m\u001b[43m(\u001b[49m\u001b[43mobj\u001b[49m\u001b[43m,\u001b[49m\u001b[43m \u001b[49m\u001b[43mfilename\u001b[49m\u001b[43m,\u001b[49m\u001b[43m \u001b[49m\u001b[43mresources\u001b[49m\u001b[43m,\u001b[49m\u001b[43m \u001b[49m\u001b[43mtitle\u001b[49m\u001b[43m,\u001b[49m\u001b[43m \u001b[49m\u001b[43mtemplate\u001b[49m\u001b[43m,\u001b[49m\u001b[43m \u001b[49m\u001b[43mtheme\u001b[49m\u001b[43m)\u001b[49m\n\u001b[0;32m     99\u001b[0m \u001b[38;5;28;01mreturn\u001b[39;00m abspath(filename)\n",
      "File \u001b[1;32m~\\anaconda3\\lib\\site-packages\\bokeh\\io\\saving.py:166\u001b[0m, in \u001b[0;36m_save_helper\u001b[1;34m(obj, filename, resources, title, template, theme)\u001b[0m\n\u001b[0;32m    163\u001b[0m \u001b[38;5;28;01mfrom\u001b[39;00m \u001b[38;5;21;01m.\u001b[39;00m\u001b[38;5;21;01m.\u001b[39;00m\u001b[38;5;21;01membed\u001b[39;00m \u001b[38;5;28;01mimport\u001b[39;00m file_html\n\u001b[0;32m    164\u001b[0m html \u001b[38;5;241m=\u001b[39m file_html(obj, resources, title\u001b[38;5;241m=\u001b[39mtitle, template\u001b[38;5;241m=\u001b[39mtemplate \u001b[38;5;129;01mor\u001b[39;00m FILE, theme\u001b[38;5;241m=\u001b[39mtheme)\n\u001b[1;32m--> 166\u001b[0m \u001b[38;5;28;01mwith\u001b[39;00m \u001b[38;5;28;43mopen\u001b[39;49m\u001b[43m(\u001b[49m\u001b[43mfilename\u001b[49m\u001b[43m,\u001b[49m\u001b[43m \u001b[49m\u001b[43mmode\u001b[49m\u001b[38;5;241;43m=\u001b[39;49m\u001b[38;5;124;43m\"\u001b[39;49m\u001b[38;5;124;43mw\u001b[39;49m\u001b[38;5;124;43m\"\u001b[39;49m\u001b[43m,\u001b[49m\u001b[43m \u001b[49m\u001b[43mencoding\u001b[49m\u001b[38;5;241;43m=\u001b[39;49m\u001b[38;5;124;43m\"\u001b[39;49m\u001b[38;5;124;43mutf-8\u001b[39;49m\u001b[38;5;124;43m\"\u001b[39;49m\u001b[43m)\u001b[49m \u001b[38;5;28;01mas\u001b[39;00m f:\n\u001b[0;32m    167\u001b[0m     f\u001b[38;5;241m.\u001b[39mwrite(html)\n",
      "\u001b[1;31mFileNotFoundError\u001b[0m: [Errno 2] No such file or directory: './output/plot_2023418__.html'"
     ]
    }
   ],
   "source": [
    "file_json = launch()\n",
    "\n",
    "with open(file_json) as json_data:\n",
    "    data_dict = json.load(json_data)\n",
    "\n",
    "file_plot =  './output/plot_'+str(date.today().year)+str(date.today().month)+str(date.today().day)+'_'+data_dict['Device']['model']+'_'+data_dict['Device']['serial_num']+'.html'\n",
    "output_file(file_plot)\n",
    "\n",
    "\n",
    "# Sensibility coeffficient SensiSPN_GHlold, SensiSPN1_DHlold\n",
    "sensi_ghi_old = data_dict['Device']['sensi_ghi_old']\n",
    "sensi_dhi_old = data_dict['Device']['sensi_dhi_old']\n",
    "\n",
    "\n",
    "# Read the data\n",
    "tab_test = dtf.read_test(',', 'data/data_test.csv')\n",
    "tab_ref = dtf.read_ref(',', 'data/data_ref.csv')\n",
    "\n",
    "# Vizualise the data\n",
    "p1 = plot_irradiance(tab_ref, tab_test, titre='Measurement campaign')\n",
    "\n",
    "# Make a selection\n",
    "[tab_selec, kb, del_percent, noct, test_noct] = data_selection(file_json, tab_ref, tab_test)\n",
    "#RAJOUT p14, p15 = plot_solpos(tab_calib)\n",
    "[tab_selec_qc, del_values, p2, p3] = bsrn_filter(tab_selec)\n",
    "\n",
    "# Vizualise the data after selection\n",
    "p4 = plot_irradiance(tab_selec_qc, tab_selec_qc, titre='Measurement campaign after selection')\n",
    "\n",
    "# Calculate overcast conditions values\n",
    "[SPN1_overcast, overcast_percent] = overcast_conditions(tab_selec_qc)\n",
    "\n",
    "# Plot the sky condition \n",
    "p5 = sky_classification(kb)\n",
    "\n",
    "# Test 1 and test 2 VERFICATION 7 THERMMOPILES\n",
    "p6, p7 = difference_tot_diff(tab_selec_qc)\n",
    "\n",
    "# Determine the coefficient and offset of the linear regression line of GHI and DHI scatter plot\n",
    "[a_g, b_g, r_g, a_d, b_d, r_d] = linear_regression(tab_selec_qc)\n",
    " \n",
    "# Plot the GHI's scatter plot, its linear regression and y=x\n",
    "p8 = plot_calibration_global(tab_selec_qc, a_g, b_g)\n",
    "\n",
    "# Plot the DHI's scatter plot, its linear regression and y=x\n",
    "p9 = plot_calibration_diffus(tab_selec_qc, a_d, b_d)\n",
    "\n",
    "[tab_calib, std_ghi, std_dhi] = calibration_validation(tab_selec_qc, a_g, b_g, a_d, b_d)\n",
    "\n",
    "# Envoie des données corrigées sur un serveur influxdb\n",
    "# csvtoinflux(file_json, tab_calib)\n",
    "\n",
    "# Plot the corrected scatter plot of GHI and DHI\n",
    "p10, p11 = plot_calibration_corr(tab_calib)\n",
    "\n",
    "# Histogram\n",
    "p12, p13 = plot_validation_global(tab_calib)\n",
    "\n",
    "# Position du soleil\n",
    "p14, p15 = plot_solpos(tab_calib)\n",
    "\n",
    "p16 = plot_irradiance_corr(tab_calib)\n",
    "\n",
    "p17, p18= plot_diff(tab_calib)\n",
    "\n",
    "p19, p20 = dni_plot(tab_calib, 'after calibration')\n",
    "\n",
    "p = gridplot([[p1, p4], [p2, p3], [p5, None], [p6, p7], [p8, p9], [p10, p11], [p12, p13], [p14, p15], \\\n",
    "    [p16, None],[p17,p18],[p19,p20]],sizing_mode='scale_both')\n",
    "\n",
    "show(p)\n",
    "\n",
    "sensi_ghi_new = round(sensi_ghi_old/a_g, 2)\n",
    "sensi_dhi_new = round(sensi_dhi_old/a_d, 2)\n",
    "\n",
    "print(\"valeurs de référence:\", len(tab_ref))\n",
    "print(\"valeurs de test:\", len(tab_test))\n",
    "print(\"valeurs comparables:\", len(tab_selec))\n",
    "print(\"La température moyenne est de :\", round(mean_temp, 2), \"°\")\n",
    "print(noct, \"valeurs nocturnes\")\n",
    "print(test_noct, \"valeurs nocturnes supérieures à 6 W/m^2\")\n",
    "print(\"valeurs qui passent le test DQC:\", len(tab_selec_qc))\n",
    "print(\"valeurs étalonnées\", len(tab_calib))\n",
    "print(round(del_percent, 2), '% des valeurs de références ont été supprimés')\n",
    "print(del_values, 'jeu de mesures ont été supprimés dans le filtre DQC')\n",
    "print('Old sensibility for GHI =', sensi_ghi_old, 'uV/W/m^2')\n",
    "print('Old sensibility for DHI =', sensi_dhi_old, 'uV/W/m^2')\n",
    "print('New sensibility for GHI =', round(sensi_ghi_new, 2), 'uV/W/m^2')\n",
    "print('New sensibility for DHI =', round(sensi_dhi_new, 2), 'uV/W/m^2')\n",
    "print('Correction coefficient for GHI =', round(a_g, 2))\n",
    "print('Correction coefficient for DHI =', round(a_d, 2))\n",
    "\n",
    "start = tab_selec.iloc[0]['TIMESTAMP']\n",
    "end = tab_selec.iloc[-1]['TIMESTAMP']\n",
    "s = str(start.year)+'-'+str(start.month)+'-'+str(start.day)\n",
    "e = str(end.year)+'-'+str(end.month)+'-'+str(end.day)\n",
    "certificate(file_json, sensi_ghi_new, sensi_dhi_new, s, e)\n"
   ]
  },
  {
   "cell_type": "code",
   "execution_count": null,
   "id": "84bcbcef",
   "metadata": {},
   "outputs": [],
   "source": []
  }
 ],
 "metadata": {
  "kernelspec": {
   "display_name": "Python 3 (ipykernel)",
   "language": "python",
   "name": "python3"
  },
  "language_info": {
   "codemirror_mode": {
    "name": "ipython",
    "version": 3
   },
   "file_extension": ".py",
   "mimetype": "text/x-python",
   "name": "python",
   "nbconvert_exporter": "python",
   "pygments_lexer": "ipython3",
   "version": "3.9.12"
  }
 },
 "nbformat": 4,
 "nbformat_minor": 5
}
